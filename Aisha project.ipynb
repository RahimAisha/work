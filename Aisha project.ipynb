{
 "cells": [
  {
   "cell_type": "markdown",
   "id": "53c3fe88",
   "metadata": {},
   "source": [
    "# Data Science Tools and Ecosystem "
   ]
  },
  {
   "cell_type": "markdown",
   "id": "83f38b44",
   "metadata": {},
   "source": [
    "In this notebook, Data Science Tools and Ecosystem are summarized."
   ]
  },
  {
   "cell_type": "markdown",
   "id": "7332a135",
   "metadata": {},
   "source": [
    "**Objectives:**\n",
    "1. List popular languages for Data Science\n",
    "2. List popular libraries for Data Science\n",
    "3. List popular tools for Data Science\n",
    "4. Arithmetic Expression\n",
    "5. Time Conversion"
   ]
  },
  {
   "cell_type": "markdown",
   "id": "94150354",
   "metadata": {},
   "source": [
    "Some of the popular languages that Data Scientists use are:\n",
    "1. Python\n",
    "2. R language\n",
    "3. SQL"
   ]
  },
  {
   "cell_type": "markdown",
   "id": "ea247f5c",
   "metadata": {},
   "source": [
    "Some of the commonly used libraries used by Data Scientists include:\n",
    "1. Matplotlib\n",
    "2. seaborn\n",
    "3. scikitlearn\n",
    "4. pandas\n",
    "5. Numpy\n",
    "6. ggplot"
   ]
  },
  {
   "cell_type": "markdown",
   "id": "0d49e4f8",
   "metadata": {},
   "source": [
    "|s/n | Data Science Tool|\n",
    "|----|:----------------:|\n",
    "|1   |Jupyter Notebook  |\n",
    "|2   |Apache Spark      |\n",
    "|3   |IBM Watson        |\n",
    "|4   |R Studio          |\n",
    "|5   |Keras             |"
   ]
  },
  {
   "cell_type": "markdown",
   "id": "54afd534",
   "metadata": {},
   "source": [
    "### Below are a few examples of evaluating arithmetic expressions in Python"
   ]
  },
  {
   "cell_type": "code",
   "execution_count": 1,
   "id": "eeb15d9f",
   "metadata": {},
   "outputs": [
    {
     "data": {
      "text/plain": [
       "17"
      ]
     },
     "execution_count": 1,
     "metadata": {},
     "output_type": "execute_result"
    }
   ],
   "source": [
    "(3*4)+5\n",
    "# This a simple arithmetic expression to mutiply then add integers"
   ]
  },
  {
   "cell_type": "code",
   "execution_count": 2,
   "id": "2e187ed1",
   "metadata": {},
   "outputs": [
    {
     "data": {
      "text/plain": [
       "3.3333333333333335"
      ]
     },
     "execution_count": 2,
     "metadata": {},
     "output_type": "execute_result"
    }
   ],
   "source": [
    "200/60\n",
    "# This will convert 200 minutes to hours by diving by 60"
   ]
  },
  {
   "cell_type": "markdown",
   "id": "3f8dfe30",
   "metadata": {},
   "source": [
    "## Author\n",
    "Aisha Rahim"
   ]
  }
 ],
 "metadata": {
  "kernelspec": {
   "display_name": "Python 3 (ipykernel)",
   "language": "python",
   "name": "python3"
  },
  "language_info": {
   "codemirror_mode": {
    "name": "ipython",
    "version": 3
   },
   "file_extension": ".py",
   "mimetype": "text/x-python",
   "name": "python",
   "nbconvert_exporter": "python",
   "pygments_lexer": "ipython3",
   "version": "3.11.5"
  }
 },
 "nbformat": 4,
 "nbformat_minor": 5
}
